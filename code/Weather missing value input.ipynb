import pandas as pd
import numpy as np
import os

# Load DirectoryList2.xlsx to get StationID and ReplaceID information
directory_list = pd.read_excel('E:/UWM/628/hw3/DirectoryList2.xlsx')

# Define the path to the folder containing all the weather data files
folder_path = 'E:/UWM/628/hw3/Weather_DATA_IN_CST总'
output_folder_path = 'E:/UWM/628/hw3/Weather_DATA_IN_CST总_filled'
os.makedirs(output_folder_path, exist_ok=True)

# List of columns to fill missing values
columns_to_fill = ['HourlyPrecipitation', 'HourlyRelativeHumidity', 'HourlySkyConditions',
                   'HourlyStationPressure', 'HourlyVisibility', 'HourlyWetBulbTemperature',
                   'HourlyWindGustSpeed', 'HourlyWindSpeed']
# Function to fill missing values within a 4-hour window
def fill_missing_values(df, columns):
    for column in columns:
        # Sort the dataframe by 'DATE'
        df = df.sort_values(by='DATE').reset_index(drop=True)
        
        # Loop through each row and fill missing values using data within the window
        for i in range(len(df)):
            if pd.isna(df.iloc[i][column]):
                current_time = df.iloc[i]['DATE']
                
                # Get previous 4 non-null values within 4 hours
                prev_mask = (df['DATE'] < current_time) & (df['DATE'] >= current_time - pd.Timedelta(hours=4))
                prev_values = df.loc[prev_mask, column].apply(pd.to_numeric, errors='coerce').dropna().tail(4)
                
                # Get next 4 non-null values within 4 hours if previous values are not enough
                next_mask = (df['DATE'] > current_time) & (df['DATE'] <= current_time + pd.Timedelta(hours=4))
                next_values = df.loc[next_mask, column].apply(pd.to_numeric, errors='coerce').dropna().head(4 - len(prev_values))
                
                # Combine previous and next values
                relevant_values = pd.concat([prev_values, next_values])
                
                # Fill the missing value if there are any relevant values
                if not relevant_values.empty:
                    df.at[i, column] = relevant_values.mean()
                else:
                    df.at[i, column] = np.nan
    return df

---------------original index from the beginning：

for index, row in directory_list.iterrows():
    station_id = row['StationID']
    replace_id = row['ReplaceID'] if not pd.isna(row['ReplaceID']) else station_id
    file_name = f"{replace_id}.csv"
    file_path = os.path.join(folder_path, file_name)
    output_file_path = os.path.join(output_folder_path, file_name)

    # Check if the file exists
    if os.path.exists(file_path):
        print(f"Processing file: {file_name}")
        
        # Load the CSV file
        df = pd.read_csv(file_path)
        
        # Convert 'DATE' to datetime format
        df['DATE'] = pd.to_datetime(df['DATE'])
        
        # Apply the function to fill missing values
        df_filled = fill_missing_values(df, columns_to_fill)
        
        # Save the updated dataframe to the new folder
        df_filled.to_csv(output_file_path, index=False)

print("Missing values have been filled and the updated files have been saved to the new folder.")

-----------Special Index：see the diectory list2
# Set the starting index for processing
start_index = 5  # Replace with the desired starting index

# Iterate through each row in the directory list starting from the specified index to process station files
for index, row in directory_list.iloc[start_index:].iterrows():
    station_id = row['StationID']
    replace_id = row['ReplaceID'] if not pd.isna(row['ReplaceID']) else station_id
    file_name = f"{replace_id}.csv"
    file_path = os.path.join(folder_path, file_name)
    output_file_path = os.path.join(output_folder_path, file_name)

    # Check if the file exists
    if os.path.exists(file_path):
        print(f"Processing file: {file_name}")
        
        # Load the CSV file
        df = pd.read_csv(file_path)
        
        # Convert 'DATE' to datetime format
        df['DATE'] = pd.to_datetime(df['DATE'])
        
        # Apply the function to fill missing values
        df_filled = fill_missing_values(df, columns_to_fill)
        
        # Save the updated dataframe to the new folder
        df_filled.to_csv(output_file_path, index=False)

print("Missing values have been filled and the updated files have been saved to the new folder.")
