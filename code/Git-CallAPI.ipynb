{
 "cells": [
  {
   "cell_type": "code",
   "execution_count": null,
   "id": "1db3ae95",
   "metadata": {},
   "outputs": [],
   "source": [
    "import requests\n",
    "import pandas as pd\n",
    "import os\n",
    "from io import StringIO\n",
    "import numpy as np\n",
    "import csv"
   ]
  },
  {
   "cell_type": "code",
   "execution_count": null,
   "id": "51ed3924",
   "metadata": {},
   "outputs": [],
   "source": [
    "API_TOKEN = ''\n",
    "data_service_url = 'https://www.ncei.noaa.gov/access/services/data/v1?dataset=local-climatological-data-v2&stations='\n",
    "date = '&startDate=2018-01-01&endDate=2024-12-31'\n",
    "\n",
    "headers = {\n",
    "    'token': API_TOKEN\n",
    "}"
   ]
  },
  {
   "cell_type": "code",
   "execution_count": null,
   "id": "ec894503",
   "metadata": {},
   "outputs": [],
   "source": [
    "with open(\"airport_stations.txt\") as f:\n",
    "    station_list = f.read()\n",
    "station_list = station_list.split(',')\n",
    "station_list"
   ]
  },
  {
   "cell_type": "code",
   "execution_count": null,
   "id": "5a288263",
   "metadata": {},
   "outputs": [],
   "source": [
    "unique_airport = pd.read_csv(\"unique_airport.csv\")"
   ]
  },
  {
   "cell_type": "code",
   "execution_count": null,
   "id": "d416247a",
   "metadata": {},
   "outputs": [],
   "source": [
    "df = pd.read_csv('ghcnh-station-list.csv', header=None,usecols=[0,1,2,3,4,5,6,7])\n",
    "final_station = []\n",
    "for station in station_list:\n",
    "    if station.split(':')[-1] in list(df[0]):\n",
    "        final_station.append(station.split(':')[-1])\n",
    "final_station"
   ]
  },
  {
   "cell_type": "code",
   "execution_count": null,
   "id": "2229730a",
   "metadata": {
    "scrolled": true
   },
   "outputs": [],
   "source": [
    "climatological_data = pd.read_csv(\"climatological_data_2019.csv\")\n",
    "climatological_data['Station'] = climatological_data['Object'].str.split('_').str[1:2].str.join('')\n",
    "climatological_data"
   ]
  },
  {
   "cell_type": "code",
   "execution_count": null,
   "id": "fe120d11",
   "metadata": {
    "scrolled": true
   },
   "outputs": [],
   "source": [
    "airport_dir = 'Airport_Weather_Data_Uniq2'\n",
    "\n",
    "if not os.path.exists(airport_dir):\n",
    "    os.makedirs(airport_dir)\n",
    "    \n",
    "# airport_station = pd.DataFrame(columns=['Station','Name'])"
   ]
  },
  {
   "cell_type": "code",
   "execution_count": null,
   "id": "fcfcdba8",
   "metadata": {},
   "outputs": [],
   "source": [
    "failed_list = []\n",
    "checked_list = []\n"
   ]
  },
  {
   "cell_type": "code",
   "execution_count": null,
   "id": "1f263941",
   "metadata": {},
   "outputs": [],
   "source": [
    "manual_list = []"
   ]
  },
  {
   "cell_type": "code",
   "execution_count": null,
   "id": "5410bf73",
   "metadata": {},
   "outputs": [],
   "source": [
    "\n",
    "count = 355\n",
    "for stationid in final_station:\n",
    "    try:\n",
    "        if not os.path.isfile(os.path.join(airport_dir,stationid+'.csv')): # skip already existing files\n",
    "            response_2 = requests.get(climatological_data.loc[climatological_data['Station']==stationid]['URL'].values[0])\n",
    "            flight_airport = False\n",
    "\n",
    "\n",
    "            if response_2.status_code == 200:\n",
    "                print(\"Checking...\" + str(count))\n",
    "                count+=1\n",
    "\n",
    "\n",
    "        #         check if the airport name is in flight airport list\n",
    "                response2_df = pd.read_csv(StringIO(response_2.content.decode('utf-8')))\n",
    "\n",
    "                if pd.isna(response2_df['NAME'][0]): #the station does not have a name\n",
    "                    continue\n",
    "                airport_name = response2_df['NAME'][0].split(\",\")[0]\n",
    "                for index, row in unique_airport.iterrows():\n",
    "                    s1 = set(row['name'].lower().split(\" \"))\n",
    "                    s2 = set(airport_name.lower().split(\" \"))\n",
    "                    if s1.issubset(s2) or s2.issubset(s1):\n",
    "                        flight_airport = True\n",
    "                        print(airport_name + \" FOUND!\")\n",
    "                        unique_airport.drop(index, inplace=True)\n",
    "                        break\n",
    "                checked_list.append(stationid)\n",
    "            else:\n",
    "                failed_list.append(stationid)\n",
    "                print(f\"Error fetching data for station {stationid}: {response_2.status_code}\")\n",
    "\n",
    "\n",
    "\n",
    "    #     if is an airport in the flight data\n",
    "            if flight_airport:\n",
    "                response_1 = requests.get(data_service_url+stationid+date)\n",
    "                print(response_1.status_code)\n",
    "\n",
    "                if response_1.status_code == 200:\n",
    "                    if not (response_1.content and response_2.content):\n",
    "                        print(f\"No 'results' found for station {stationid}. Response: {data}\")\n",
    "                        continue\n",
    "                    else:\n",
    "                        response1_df = pd.read_csv(StringIO(response_1.content.decode('utf-8')))\n",
    "                        #insert station information\n",
    "                        response1_df['LATITUDE'] = response2_df['LATITUDE'][0]\n",
    "                        response1_df['LONGITUDE'] = response2_df['LONGITUDE'][0]\n",
    "                        response1_df['ELEVATION'] = response2_df['ELEVATION'][0]\n",
    "                        response1_df['NAME'] = response2_df['NAME'][0]\n",
    "                        cols_to_move = ['STATION','LATITUDE', 'LONGITUDE', 'ELEVATION', 'NAME']\n",
    "                        #move columns to front\n",
    "                        response1_df = response1_df[cols_to_move + [x for x in response1_df.columns if x not in cols_to_move]]\n",
    "\n",
    "                        response1_df.to_csv(os.path.join(airport_dir,stationid+'.csv'))\n",
    "                        airport_station = airport_station.append({'Station':stationid, 'Name':response1_df['NAME'][0]},ignore_index=True)\n",
    "    except:\n",
    "        manual_list.append(stationid)"
   ]
  },
  {
   "cell_type": "code",
   "execution_count": null,
   "id": "95ead246",
   "metadata": {},
   "outputs": [],
   "source": []
  }
 ],
 "metadata": {
  "kernelspec": {
   "display_name": "Python 3 (ipykernel)",
   "language": "python",
   "name": "python3"
  },
  "language_info": {
   "codemirror_mode": {
    "name": "ipython",
    "version": 3
   },
   "file_extension": ".py",
   "mimetype": "text/x-python",
   "name": "python",
   "nbconvert_exporter": "python",
   "pygments_lexer": "ipython3",
   "version": "3.9.13"
  }
 },
 "nbformat": 4,
 "nbformat_minor": 5
}
