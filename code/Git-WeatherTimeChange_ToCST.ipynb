{
 "cells": [
  {
   "cell_type": "code",
   "execution_count": 1,
   "id": "a649c701",
   "metadata": {},
   "outputs": [],
   "source": [
    "import pandas as pd\n",
    "from datetime import datetime\n",
    "import pytz\n",
    "import os\n",
    "\n",
    "def get_timezone_from_longitude(longitude):\n",
    "    \"\"\"根据经度返回相应的时区。\"\"\"\n",
    "    if -67.5 < longitude < -52.5:\n",
    "        return 'US/Eastern'  # 东部时间\n",
    "    elif -82.5 < longitude < -67.5:\n",
    "        return 'US/Eastern'  # 东部时间\n",
    "    elif -97.5 < longitude < -82.5:\n",
    "        return 'US/Central'  # 中部时间\n",
    "    elif -112.5 < longitude < -97.5:\n",
    "        return 'US/Mountain'  # 山地时间\n",
    "    elif -122.5 < longitude < -112.5:\n",
    "        return 'US/Pacific'  # 太平洋时间\n",
    "    else:\n",
    "        return None  # 超出范围\n",
    "\n",
    "def convert_to_central_time_from_longitude(local_time_str, longitude):\n",
    "    \"\"\"将给定的当地时间转换为美国中部时间。\"\"\"\n",
    "    timezone_str = get_timezone_from_longitude(longitude)\n",
    "    \n",
    "    if not timezone_str:\n",
    "        return \"Out of Range\"\n",
    "\n",
    "    # 将字符串格式的时间转换为 datetime 对象\n",
    "    local_time = datetime.strptime(local_time_str, \"%Y-%m-%dT%H:%M:%S\")\n",
    "    \n",
    "    # 设置时区\n",
    "    local_timezone = pytz.timezone(timezone_str)\n",
    "    \n",
    "    # 将当地时间设为相应的时区\n",
    "    local_time = local_timezone.localize(local_time)\n",
    "    \n",
    "    # 转换到中部时间\n",
    "    central = pytz.timezone('US/Central')\n",
    "    central_time = local_time.astimezone(central)\n",
    "    \n",
    "    # 返回指定格式的中部时间字符串\n",
    "    return central_time.strftime(\"%Y-%m-%dT%H:%M:%S\")"
   ]
  },
  {
   "cell_type": "code",
   "execution_count": 2,
   "id": "90c1136c",
   "metadata": {},
   "outputs": [
    {
     "name": "stdout",
     "output_type": "stream",
     "text": [
      "ReplaceStation/USW00013987.csv\n",
      "转换完成，结果已保存到新的CSV文件。\n",
      "ReplaceStation/USW00014939.csv\n"
     ]
    },
    {
     "name": "stderr",
     "output_type": "stream",
     "text": [
      "/Users/shixin/opt/anaconda3/lib/python3.9/site-packages/IPython/core/interactiveshell.py:3457: DtypeWarning: Columns (19,62,64,78) have mixed types.Specify dtype option on import or set low_memory=False.\n",
      "  exec(code_obj, self.user_global_ns, self.user_ns)\n"
     ]
    },
    {
     "name": "stdout",
     "output_type": "stream",
     "text": [
      "转换完成，结果已保存到新的CSV文件。\n",
      "ReplaceStation/RQW00011641.csv\n",
      "转换完成，结果已保存到新的CSV文件。\n",
      "ReplaceStation/USW00094014.csv\n",
      "转换完成，结果已保存到新的CSV文件。\n"
     ]
    }
   ],
   "source": [
    "os.makedirs('ReplaceStation_IN_CST')\n",
    "\n",
    "for file in os.listdir('ReplaceStation'):\n",
    "    if file == '.DS_Store':\n",
    "        continue\n",
    "    file_path = os.path.join('ReplaceStation',file)  # 使用原始字符串\n",
    "    print(file_path)\n",
    "    df = pd.read_csv(file_path)\n",
    "\n",
    "    df['DATE'] = df['DATE'].astype(str)\n",
    "\n",
    "    df['CENTRAL_DATE'] = df.apply(lambda row: convert_to_central_time_from_longitude(row['DATE'], row['LONGITUDE']), axis=1)\n",
    "\n",
    "    output_file_path = os.path.join('ReplaceStation_IN_CST', file)\n",
    "    df.to_csv(output_file_path, index=False)\n",
    "\n",
    "    print(\"转换完成，结果已保存到新的CSV文件。\")"
   ]
  },
  {
   "cell_type": "code",
   "execution_count": 6,
   "id": "d56774bb",
   "metadata": {},
   "outputs": [
    {
     "name": "stdout",
     "output_type": "stream",
     "text": [
      "USW00014740\n",
      "USW00014606\n",
      "USW00014860\n",
      "USW00013987\n"
     ]
    },
    {
     "name": "stderr",
     "output_type": "stream",
     "text": [
      "/Users/shixin/opt/anaconda3/lib/python3.9/site-packages/IPython/core/interactiveshell.py:3457: DtypeWarning: Columns (126) have mixed types.Specify dtype option on import or set low_memory=False.\n",
      "  exec(code_obj, self.user_global_ns, self.user_ns)\n"
     ]
    },
    {
     "name": "stdout",
     "output_type": "stream",
     "text": [
      "---------USW00013987\n",
      "USW00022536\n",
      "USW00014939\n"
     ]
    },
    {
     "name": "stderr",
     "output_type": "stream",
     "text": [
      "/Users/shixin/opt/anaconda3/lib/python3.9/site-packages/IPython/core/interactiveshell.py:3457: DtypeWarning: Columns (17,20,22,42,43,59,63,65,66,78,79,116,118,119,121,124) have mixed types.Specify dtype option on import or set low_memory=False.\n",
      "  exec(code_obj, self.user_global_ns, self.user_ns)\n"
     ]
    },
    {
     "name": "stdout",
     "output_type": "stream",
     "text": [
      "---------USW00014939\n",
      "USW00014842\n",
      "USW00014771\n",
      "USW00000198\n"
     ]
    },
    {
     "name": "stderr",
     "output_type": "stream",
     "text": [
      "/Users/shixin/opt/anaconda3/lib/python3.9/site-packages/IPython/core/interactiveshell.py:3457: DtypeWarning: Columns (12,20,41,46,62,91,92,93,94,95,96,97,98,99,100,101,102,116,118,119,121,124,125) have mixed types.Specify dtype option on import or set low_memory=False.\n",
      "  exec(code_obj, self.user_global_ns, self.user_ns)\n"
     ]
    },
    {
     "name": "stdout",
     "output_type": "stream",
     "text": [
      "---------RQW00011641\n"
     ]
    },
    {
     "name": "stderr",
     "output_type": "stream",
     "text": [
      "/Users/shixin/opt/anaconda3/lib/python3.9/site-packages/IPython/core/interactiveshell.py:3457: DtypeWarning: Columns (6,22,24,41,46,62,91,92,93,94,95,96,97,98,99,100,101,102,116,118,119,121,124,125) have mixed types.Specify dtype option on import or set low_memory=False.\n",
      "  exec(code_obj, self.user_global_ns, self.user_ns)\n"
     ]
    },
    {
     "name": "stdout",
     "output_type": "stream",
     "text": [
      "---------USW00094014\n"
     ]
    }
   ],
   "source": [
    "for i,airport in pd.read_csv('DirectoryList2.csv').iterrows():\n",
    "#     print(i)\n",
    "    if pd.isna(airport['ReplaceID']):\n",
    "        continue\n",
    "    if str(airport['StationID']) == str(airport['ReplaceID']):\n",
    "        print(airport['StationID'])\n",
    "#     airportCode = airport['iata_code']\n",
    "    if not os.path.isfile(os.path.join('ReplaceStation_IN_CST',  str(airport['ReplaceID'])+'.csv')):\n",
    "        continue\n",
    "    df1 = pd.read_csv(os.path.join('ReplaceStation_IN_CST',  str(airport['ReplaceID'])+'.csv'))\n",
    "    df2 = pd.read_csv(os.path.join('Weather_DATA_IN_CST', airport['StationID']+'.csv'))\n",
    "        \n",
    "    pd.concat([df1,df2]).to_csv(os.path.join('ReplaceStation_IN_CST',str(airport['ReplaceID'])+'.csv'))\n",
    "    print(\"---------\"+str(airport['ReplaceID']))"
   ]
  },
  {
   "cell_type": "code",
   "execution_count": null,
   "id": "24b88317",
   "metadata": {},
   "outputs": [],
   "source": []
  }
 ],
 "metadata": {
  "kernelspec": {
   "display_name": "Python 3 (ipykernel)",
   "language": "python",
   "name": "python3"
  },
  "language_info": {
   "codemirror_mode": {
    "name": "ipython",
    "version": 3
   },
   "file_extension": ".py",
   "mimetype": "text/x-python",
   "name": "python",
   "nbconvert_exporter": "python",
   "pygments_lexer": "ipython3",
   "version": "3.9.13"
  }
 },
 "nbformat": 4,
 "nbformat_minor": 5
}
